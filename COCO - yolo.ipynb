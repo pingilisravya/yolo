{
 "cells": [
  {
   "cell_type": "code",
   "execution_count": 3,
   "id": "254bb223",
   "metadata": {},
   "outputs": [
    {
     "name": "stdout",
     "output_type": "stream",
     "text": [
      "Collecting coco-cli\n",
      "  Downloading coco_cli-2.3-py3-none-any.whl (6.7 kB)\n",
      "Requirement already satisfied: click in c:\\users\\shobi\\anaconda3\\lib\\site-packages (from coco-cli) (7.1.2)\n",
      "Collecting bullet\n",
      "  Downloading bullet-2.2.0-py3-none-any.whl (10 kB)\n",
      "Installing collected packages: bullet, coco-cli\n",
      "Note: you may need to restart the kernel to use updated packages.Successfully installed bullet-2.2.0 coco-cli-2.3\n",
      "\n"
     ]
    }
   ],
   "source": [
    "pip install coco-cli"
   ]
  },
  {
   "cell_type": "code",
   "execution_count": 4,
   "id": "f3cb4e03",
   "metadata": {},
   "outputs": [
    {
     "name": "stdout",
     "output_type": "stream",
     "text": [
      "Collecting yolov5\n",
      "  Downloading yolov5-6.0.6-py36.py37.py38-none-any.whl (837 kB)\n",
      "     ------------------------------------ 837.6/837.6 KB 187.1 kB/s eta 0:00:00\n",
      "Requirement already satisfied: matplotlib>=3.2.2 in c:\\users\\shobi\\anaconda3\\lib\\site-packages (from yolov5) (3.3.4)\n",
      "Requirement already satisfied: PyYAML>=5.3.1 in c:\\users\\shobi\\anaconda3\\lib\\site-packages (from yolov5) (5.4.1)\n",
      "Requirement already satisfied: requests>=2.23.0 in c:\\users\\shobi\\anaconda3\\lib\\site-packages (from yolov5) (2.25.1)\n",
      "Requirement already satisfied: pandas>=1.1.4 in c:\\users\\shobi\\anaconda3\\lib\\site-packages (from yolov5) (1.2.4)\n",
      "Collecting fire\n",
      "  Downloading fire-0.4.0.tar.gz (87 kB)\n",
      "     -------------------------------------- 87.7/87.7 KB 215.1 kB/s eta 0:00:00\n",
      "  Preparing metadata (setup.py): started\n",
      "  Preparing metadata (setup.py): finished with status 'done'\n",
      "Collecting boto3>=1.19.1\n",
      "  Downloading boto3-1.21.4-py3-none-any.whl (132 kB)\n",
      "     ------------------------------------ 132.1/132.1 KB 487.2 kB/s eta 0:00:00\n",
      "Requirement already satisfied: seaborn>=0.11.0 in c:\\users\\shobi\\anaconda3\\lib\\site-packages (from yolov5) (0.11.1)\n",
      "Requirement already satisfied: opencv-python>=4.1.2 in c:\\users\\shobi\\anaconda3\\lib\\site-packages (from yolov5) (4.5.5.62)\n",
      "Requirement already satisfied: Pillow>=7.1.2 in c:\\users\\shobi\\anaconda3\\lib\\site-packages (from yolov5) (8.2.0)\n",
      "Requirement already satisfied: torchvision>=0.8.1 in c:\\users\\shobi\\anaconda3\\lib\\site-packages (from yolov5) (0.11.3)\n",
      "Requirement already satisfied: numpy>=1.18.5 in c:\\users\\shobi\\anaconda3\\lib\\site-packages (from yolov5) (1.20.1)\n",
      "Requirement already satisfied: tensorboard>=2.4.1 in c:\\users\\shobi\\anaconda3\\lib\\site-packages (from yolov5) (2.8.0)\n",
      "Collecting thop\n",
      "  Downloading thop-0.0.31.post2005241907-py3-none-any.whl (8.7 kB)\n",
      "Collecting sahi>=0.8.9\n",
      "  Downloading sahi-0.9.0-py3-none-any.whl (78 kB)\n",
      "     -------------------------------------- 79.0/79.0 KB 437.7 kB/s eta 0:00:00\n",
      "Requirement already satisfied: tqdm>=4.41.0 in c:\\users\\shobi\\anaconda3\\lib\\site-packages (from yolov5) (4.59.0)\n",
      "Requirement already satisfied: scipy>=1.4.1 in c:\\users\\shobi\\anaconda3\\lib\\site-packages (from yolov5) (1.6.2)\n",
      "Requirement already satisfied: torch>=1.7.0 in c:\\users\\shobi\\anaconda3\\lib\\site-packages (from yolov5) (1.10.2)\n",
      "Collecting botocore<1.25.0,>=1.24.4\n",
      "  Downloading botocore-1.24.5-py3-none-any.whl (8.5 MB)\n",
      "     ---------------------------------------- 8.5/8.5 MB 264.3 kB/s eta 0:00:00\n",
      "Collecting s3transfer<0.6.0,>=0.5.0\n",
      "  Downloading s3transfer-0.5.1-py3-none-any.whl (79 kB)\n",
      "     ---------------------------------------- 79.4/79.4 KB 1.5 MB/s eta 0:00:00\n",
      "Collecting jmespath<1.0.0,>=0.7.1\n",
      "  Downloading jmespath-0.10.0-py2.py3-none-any.whl (24 kB)\n",
      "Requirement already satisfied: kiwisolver>=1.0.1 in c:\\users\\shobi\\anaconda3\\lib\\site-packages (from matplotlib>=3.2.2->yolov5) (1.3.1)\n",
      "Requirement already satisfied: pyparsing!=2.0.4,!=2.1.2,!=2.1.6,>=2.0.3 in c:\\users\\shobi\\anaconda3\\lib\\site-packages (from matplotlib>=3.2.2->yolov5) (2.4.7)\n",
      "Requirement already satisfied: cycler>=0.10 in c:\\users\\shobi\\anaconda3\\lib\\site-packages (from matplotlib>=3.2.2->yolov5) (0.10.0)\n",
      "Requirement already satisfied: python-dateutil>=2.1 in c:\\users\\shobi\\anaconda3\\lib\\site-packages (from matplotlib>=3.2.2->yolov5) (2.8.1)\n",
      "Requirement already satisfied: pytz>=2017.3 in c:\\users\\shobi\\anaconda3\\lib\\site-packages (from pandas>=1.1.4->yolov5) (2021.1)\n",
      "Requirement already satisfied: idna<3,>=2.5 in c:\\users\\shobi\\anaconda3\\lib\\site-packages (from requests>=2.23.0->yolov5) (2.10)\n",
      "Requirement already satisfied: chardet<5,>=3.0.2 in c:\\users\\shobi\\anaconda3\\lib\\site-packages (from requests>=2.23.0->yolov5) (4.0.0)\n",
      "Requirement already satisfied: certifi>=2017.4.17 in c:\\users\\shobi\\anaconda3\\lib\\site-packages (from requests>=2.23.0->yolov5) (2020.12.5)\n",
      "Requirement already satisfied: urllib3<1.27,>=1.21.1 in c:\\users\\shobi\\anaconda3\\lib\\site-packages (from requests>=2.23.0->yolov5) (1.26.4)\n",
      "Collecting terminaltables\n",
      "  Downloading terminaltables-3.1.10-py2.py3-none-any.whl (15 kB)\n",
      "Collecting shapely>=1.8.0\n",
      "  Downloading Shapely-1.8.1.post1-cp38-cp38-win_amd64.whl (1.3 MB)\n",
      "     ---------------------------------------- 1.3/1.3 MB 545.7 kB/s eta 0:00:00\n",
      "Requirement already satisfied: protobuf>=3.6.0 in c:\\users\\shobi\\anaconda3\\lib\\site-packages (from tensorboard>=2.4.1->yolov5) (3.19.4)\n",
      "Requirement already satisfied: setuptools>=41.0.0 in c:\\users\\shobi\\anaconda3\\lib\\site-packages (from tensorboard>=2.4.1->yolov5) (52.0.0.post20210125)\n",
      "Requirement already satisfied: grpcio>=1.24.3 in c:\\users\\shobi\\anaconda3\\lib\\site-packages (from tensorboard>=2.4.1->yolov5) (1.43.0)\n",
      "Requirement already satisfied: google-auth-oauthlib<0.5,>=0.4.1 in c:\\users\\shobi\\anaconda3\\lib\\site-packages (from tensorboard>=2.4.1->yolov5) (0.4.6)\n",
      "Requirement already satisfied: tensorboard-data-server<0.7.0,>=0.6.0 in c:\\users\\shobi\\anaconda3\\lib\\site-packages (from tensorboard>=2.4.1->yolov5) (0.6.1)\n",
      "Requirement already satisfied: werkzeug>=0.11.15 in c:\\users\\shobi\\anaconda3\\lib\\site-packages (from tensorboard>=2.4.1->yolov5) (1.0.1)\n",
      "Requirement already satisfied: tensorboard-plugin-wit>=1.6.0 in c:\\users\\shobi\\anaconda3\\lib\\site-packages (from tensorboard>=2.4.1->yolov5) (1.8.1)\n",
      "Requirement already satisfied: wheel>=0.26 in c:\\users\\shobi\\anaconda3\\lib\\site-packages (from tensorboard>=2.4.1->yolov5) (0.36.2)\n",
      "Requirement already satisfied: absl-py>=0.4 in c:\\users\\shobi\\anaconda3\\lib\\site-packages (from tensorboard>=2.4.1->yolov5) (1.0.0)\n",
      "Requirement already satisfied: google-auth<3,>=1.6.3 in c:\\users\\shobi\\anaconda3\\lib\\site-packages (from tensorboard>=2.4.1->yolov5) (2.6.0)\n",
      "Requirement already satisfied: markdown>=2.6.8 in c:\\users\\shobi\\anaconda3\\lib\\site-packages (from tensorboard>=2.4.1->yolov5) (3.3.6)\n",
      "Requirement already satisfied: typing-extensions in c:\\users\\shobi\\anaconda3\\lib\\site-packages (from torch>=1.7.0->yolov5) (3.7.4.3)\n",
      "Requirement already satisfied: six in c:\\users\\shobi\\anaconda3\\lib\\site-packages (from fire->yolov5) (1.15.0)\n",
      "Requirement already satisfied: termcolor in c:\\users\\shobi\\anaconda3\\lib\\site-packages (from fire->yolov5) (1.1.0)\n",
      "Requirement already satisfied: cachetools<6.0,>=2.0.0 in c:\\users\\shobi\\anaconda3\\lib\\site-packages (from google-auth<3,>=1.6.3->tensorboard>=2.4.1->yolov5) (4.2.2)\n",
      "Requirement already satisfied: pyasn1-modules>=0.2.1 in c:\\users\\shobi\\anaconda3\\lib\\site-packages (from google-auth<3,>=1.6.3->tensorboard>=2.4.1->yolov5) (0.2.8)\n",
      "Requirement already satisfied: rsa<5,>=3.1.4 in c:\\users\\shobi\\anaconda3\\lib\\site-packages (from google-auth<3,>=1.6.3->tensorboard>=2.4.1->yolov5) (4.8)\n",
      "Requirement already satisfied: requests-oauthlib>=0.7.0 in c:\\users\\shobi\\anaconda3\\lib\\site-packages (from google-auth-oauthlib<0.5,>=0.4.1->tensorboard>=2.4.1->yolov5) (1.3.1)\n",
      "Requirement already satisfied: importlib-metadata>=4.4 in c:\\users\\shobi\\anaconda3\\lib\\site-packages (from markdown>=2.6.8->tensorboard>=2.4.1->yolov5) (4.11.1)\n",
      "Requirement already satisfied: zipp>=0.5 in c:\\users\\shobi\\anaconda3\\lib\\site-packages (from importlib-metadata>=4.4->markdown>=2.6.8->tensorboard>=2.4.1->yolov5) (3.4.1)\n",
      "Requirement already satisfied: pyasn1<0.5.0,>=0.4.6 in c:\\users\\shobi\\anaconda3\\lib\\site-packages (from pyasn1-modules>=0.2.1->google-auth<3,>=1.6.3->tensorboard>=2.4.1->yolov5) (0.4.8)\n",
      "Requirement already satisfied: oauthlib>=3.0.0 in c:\\users\\shobi\\anaconda3\\lib\\site-packages (from requests-oauthlib>=0.7.0->google-auth-oauthlib<0.5,>=0.4.1->tensorboard>=2.4.1->yolov5) (3.2.0)\n",
      "Building wheels for collected packages: fire\n",
      "  Building wheel for fire (setup.py): started\n",
      "  Building wheel for fire (setup.py): finished with status 'done'\n",
      "  Created wheel for fire: filename=fire-0.4.0-py2.py3-none-any.whl size=115928 sha256=cde24596c1ea82b840400ddb437aca6e314953586c3e51df58cd856a2c71ce4d\n",
      "  Stored in directory: c:\\users\\shobi\\appdata\\local\\pip\\cache\\wheels\\1f\\10\\06\\2a990ee4d73a8479fe2922445e8a876d38cfbfed052284c6a1\n",
      "Successfully built fire\n",
      "Installing collected packages: terminaltables, shapely, jmespath, fire, thop, sahi, botocore, s3transfer, boto3, yolov5\n",
      "Successfully installed boto3-1.21.4 botocore-1.24.5 fire-0.4.0 jmespath-0.10.0 s3transfer-0.5.1 sahi-0.9.0 shapely-1.8.1.post1 terminaltables-3.1.10 thop-0.0.31.post2005241907 yolov5-6.0.6\n",
      "Note: you may need to restart the kernel to use updated packages.\n"
     ]
    }
   ],
   "source": [
    "pip install yolov5"
   ]
  },
  {
   "cell_type": "code",
   "execution_count": 34,
   "id": "8c69abcb",
   "metadata": {},
   "outputs": [
    {
     "name": "stdout",
     "output_type": "stream",
     "text": [
      "Collecting yolo5\n",
      "  Downloading yolo5-0.0.1-py36.py37.py38-none-any.whl (3.2 kB)\n",
      "Requirement already satisfied: yolov5 in c:\\users\\shobi\\anaconda3\\lib\\site-packages (from yolo5) (6.0.6)\n",
      "Requirement already satisfied: numpy>=1.18.5 in c:\\users\\shobi\\anaconda3\\lib\\site-packages (from yolov5->yolo5) (1.20.1)\n",
      "Requirement already satisfied: tensorboard>=2.4.1 in c:\\users\\shobi\\anaconda3\\lib\\site-packages (from yolov5->yolo5) (2.8.0)\n",
      "Requirement already satisfied: opencv-python>=4.1.2 in c:\\users\\shobi\\anaconda3\\lib\\site-packages (from yolov5->yolo5) (4.5.5.62)\n",
      "Requirement already satisfied: thop in c:\\users\\shobi\\anaconda3\\lib\\site-packages (from yolov5->yolo5) (0.0.31.post2005241907)\n",
      "Requirement already satisfied: pandas>=1.1.4 in c:\\users\\shobi\\anaconda3\\lib\\site-packages (from yolov5->yolo5) (1.2.4)\n",
      "Requirement already satisfied: requests>=2.23.0 in c:\\users\\shobi\\anaconda3\\lib\\site-packages (from yolov5->yolo5) (2.25.1)\n",
      "Requirement already satisfied: torch>=1.7.0 in c:\\users\\shobi\\anaconda3\\lib\\site-packages (from yolov5->yolo5) (1.10.2)\n",
      "Requirement already satisfied: tqdm>=4.41.0 in c:\\users\\shobi\\anaconda3\\lib\\site-packages (from yolov5->yolo5) (4.59.0)\n",
      "Requirement already satisfied: boto3>=1.19.1 in c:\\users\\shobi\\anaconda3\\lib\\site-packages (from yolov5->yolo5) (1.21.4)\n",
      "Requirement already satisfied: matplotlib>=3.2.2 in c:\\users\\shobi\\anaconda3\\lib\\site-packages (from yolov5->yolo5) (3.3.4)\n",
      "Requirement already satisfied: scipy>=1.4.1 in c:\\users\\shobi\\anaconda3\\lib\\site-packages (from yolov5->yolo5) (1.6.2)\n",
      "Requirement already satisfied: torchvision>=0.8.1 in c:\\users\\shobi\\anaconda3\\lib\\site-packages (from yolov5->yolo5) (0.11.3)\n",
      "Requirement already satisfied: Pillow>=7.1.2 in c:\\users\\shobi\\anaconda3\\lib\\site-packages (from yolov5->yolo5) (8.2.0)\n",
      "Requirement already satisfied: seaborn>=0.11.0 in c:\\users\\shobi\\anaconda3\\lib\\site-packages (from yolov5->yolo5) (0.11.1)\n",
      "Requirement already satisfied: fire in c:\\users\\shobi\\anaconda3\\lib\\site-packages (from yolov5->yolo5) (0.4.0)\n",
      "Requirement already satisfied: sahi>=0.8.9 in c:\\users\\shobi\\anaconda3\\lib\\site-packages (from yolov5->yolo5) (0.9.0)\n",
      "Requirement already satisfied: PyYAML>=5.3.1 in c:\\users\\shobi\\anaconda3\\lib\\site-packages (from yolov5->yolo5) (5.4.1)\n",
      "Requirement already satisfied: s3transfer<0.6.0,>=0.5.0 in c:\\users\\shobi\\anaconda3\\lib\\site-packages (from boto3>=1.19.1->yolov5->yolo5) (0.5.1)\n",
      "Requirement already satisfied: botocore<1.25.0,>=1.24.4 in c:\\users\\shobi\\anaconda3\\lib\\site-packages (from boto3>=1.19.1->yolov5->yolo5) (1.24.5)\n",
      "Requirement already satisfied: jmespath<1.0.0,>=0.7.1 in c:\\users\\shobi\\anaconda3\\lib\\site-packages (from boto3>=1.19.1->yolov5->yolo5) (0.10.0)\n",
      "Requirement already satisfied: pyparsing!=2.0.4,!=2.1.2,!=2.1.6,>=2.0.3 in c:\\users\\shobi\\anaconda3\\lib\\site-packages (from matplotlib>=3.2.2->yolov5->yolo5) (2.4.7)\n",
      "Requirement already satisfied: python-dateutil>=2.1 in c:\\users\\shobi\\anaconda3\\lib\\site-packages (from matplotlib>=3.2.2->yolov5->yolo5) (2.8.1)\n",
      "Requirement already satisfied: kiwisolver>=1.0.1 in c:\\users\\shobi\\anaconda3\\lib\\site-packages (from matplotlib>=3.2.2->yolov5->yolo5) (1.3.1)\n",
      "Requirement already satisfied: cycler>=0.10 in c:\\users\\shobi\\anaconda3\\lib\\site-packages (from matplotlib>=3.2.2->yolov5->yolo5) (0.10.0)\n",
      "Requirement already satisfied: pytz>=2017.3 in c:\\users\\shobi\\anaconda3\\lib\\site-packages (from pandas>=1.1.4->yolov5->yolo5) (2021.1)\n",
      "Requirement already satisfied: urllib3<1.27,>=1.21.1 in c:\\users\\shobi\\anaconda3\\lib\\site-packages (from requests>=2.23.0->yolov5->yolo5) (1.26.4)\n",
      "Requirement already satisfied: idna<3,>=2.5 in c:\\users\\shobi\\anaconda3\\lib\\site-packages (from requests>=2.23.0->yolov5->yolo5) (2.10)\n",
      "Requirement already satisfied: chardet<5,>=3.0.2 in c:\\users\\shobi\\anaconda3\\lib\\site-packages (from requests>=2.23.0->yolov5->yolo5) (4.0.0)\n",
      "Requirement already satisfied: certifi>=2017.4.17 in c:\\users\\shobi\\anaconda3\\lib\\site-packages (from requests>=2.23.0->yolov5->yolo5) (2020.12.5)\n",
      "Requirement already satisfied: terminaltables in c:\\users\\shobi\\anaconda3\\lib\\site-packages (from sahi>=0.8.9->yolov5->yolo5) (3.1.10)\n",
      "Requirement already satisfied: shapely>=1.8.0 in c:\\users\\shobi\\anaconda3\\lib\\site-packages (from sahi>=0.8.9->yolov5->yolo5) (1.8.1.post1)\n",
      "Requirement already satisfied: google-auth<3,>=1.6.3 in c:\\users\\shobi\\anaconda3\\lib\\site-packages (from tensorboard>=2.4.1->yolov5->yolo5) (2.6.0)\n",
      "Requirement already satisfied: google-auth-oauthlib<0.5,>=0.4.1 in c:\\users\\shobi\\anaconda3\\lib\\site-packages (from tensorboard>=2.4.1->yolov5->yolo5) (0.4.6)\n",
      "Requirement already satisfied: setuptools>=41.0.0 in c:\\users\\shobi\\anaconda3\\lib\\site-packages (from tensorboard>=2.4.1->yolov5->yolo5) (52.0.0.post20210125)\n",
      "Requirement already satisfied: werkzeug>=0.11.15 in c:\\users\\shobi\\anaconda3\\lib\\site-packages (from tensorboard>=2.4.1->yolov5->yolo5) (1.0.1)\n",
      "Requirement already satisfied: tensorboard-plugin-wit>=1.6.0 in c:\\users\\shobi\\anaconda3\\lib\\site-packages (from tensorboard>=2.4.1->yolov5->yolo5) (1.8.1)\n",
      "Requirement already satisfied: markdown>=2.6.8 in c:\\users\\shobi\\anaconda3\\lib\\site-packages (from tensorboard>=2.4.1->yolov5->yolo5) (3.3.6)\n",
      "Requirement already satisfied: absl-py>=0.4 in c:\\users\\shobi\\anaconda3\\lib\\site-packages (from tensorboard>=2.4.1->yolov5->yolo5) (1.0.0)\n",
      "Requirement already satisfied: grpcio>=1.24.3 in c:\\users\\shobi\\anaconda3\\lib\\site-packages (from tensorboard>=2.4.1->yolov5->yolo5) (1.43.0)\n",
      "Requirement already satisfied: protobuf>=3.6.0 in c:\\users\\shobi\\anaconda3\\lib\\site-packages (from tensorboard>=2.4.1->yolov5->yolo5) (3.19.4)\n",
      "Requirement already satisfied: tensorboard-data-server<0.7.0,>=0.6.0 in c:\\users\\shobi\\anaconda3\\lib\\site-packages (from tensorboard>=2.4.1->yolov5->yolo5) (0.6.1)\n",
      "Requirement already satisfied: wheel>=0.26 in c:\\users\\shobi\\anaconda3\\lib\\site-packages (from tensorboard>=2.4.1->yolov5->yolo5) (0.36.2)\n",
      "Requirement already satisfied: typing-extensions in c:\\users\\shobi\\anaconda3\\lib\\site-packages (from torch>=1.7.0->yolov5->yolo5) (3.7.4.3)\n",
      "Requirement already satisfied: termcolor in c:\\users\\shobi\\anaconda3\\lib\\site-packages (from fire->yolov5->yolo5) (1.1.0)\n",
      "Requirement already satisfied: six in c:\\users\\shobi\\anaconda3\\lib\\site-packages (from fire->yolov5->yolo5) (1.15.0)\n",
      "Requirement already satisfied: cachetools<6.0,>=2.0.0 in c:\\users\\shobi\\anaconda3\\lib\\site-packages (from google-auth<3,>=1.6.3->tensorboard>=2.4.1->yolov5->yolo5) (4.2.2)\n",
      "Requirement already satisfied: rsa<5,>=3.1.4 in c:\\users\\shobi\\anaconda3\\lib\\site-packages (from google-auth<3,>=1.6.3->tensorboard>=2.4.1->yolov5->yolo5) (4.8)\n",
      "Requirement already satisfied: pyasn1-modules>=0.2.1 in c:\\users\\shobi\\anaconda3\\lib\\site-packages (from google-auth<3,>=1.6.3->tensorboard>=2.4.1->yolov5->yolo5) (0.2.8)\n",
      "Requirement already satisfied: requests-oauthlib>=0.7.0 in c:\\users\\shobi\\anaconda3\\lib\\site-packages (from google-auth-oauthlib<0.5,>=0.4.1->tensorboard>=2.4.1->yolov5->yolo5) (1.3.1)\n",
      "Requirement already satisfied: importlib-metadata>=4.4 in c:\\users\\shobi\\anaconda3\\lib\\site-packages (from markdown>=2.6.8->tensorboard>=2.4.1->yolov5->yolo5) (4.11.1)\n",
      "Requirement already satisfied: zipp>=0.5 in c:\\users\\shobi\\anaconda3\\lib\\site-packages (from importlib-metadata>=4.4->markdown>=2.6.8->tensorboard>=2.4.1->yolov5->yolo5) (3.4.1)\n",
      "Requirement already satisfied: pyasn1<0.5.0,>=0.4.6 in c:\\users\\shobi\\anaconda3\\lib\\site-packages (from pyasn1-modules>=0.2.1->google-auth<3,>=1.6.3->tensorboard>=2.4.1->yolov5->yolo5) (0.4.8)\n",
      "Requirement already satisfied: oauthlib>=3.0.0 in c:\\users\\shobi\\anaconda3\\lib\\site-packages (from requests-oauthlib>=0.7.0->google-auth-oauthlib<0.5,>=0.4.1->tensorboard>=2.4.1->yolov5->yolo5) (3.2.0)\n",
      "Installing collected packages: yolo5\n",
      "Successfully installed yolo5-0.0.1\n",
      "Note: you may need to restart the kernel to use updated packages.\n"
     ]
    }
   ],
   "source": [
    "pip install yolo5"
   ]
  },
  {
   "cell_type": "code",
   "execution_count": 42,
   "id": "c1c0250d",
   "metadata": {},
   "outputs": [],
   "source": [
    "import cv2\n",
    "import numpy as np\n",
    "import matplotlib as plt\n",
    "import yolov5\n",
    "import yolo5\n",
    "import torch\n",
    "import random"
   ]
  },
  {
   "cell_type": "code",
   "execution_count": 68,
   "id": "30a32de4",
   "metadata": {},
   "outputs": [
    {
     "name": "stderr",
     "output_type": "stream",
     "text": [
      "Using cache found in C:\\Users\\shobi/.cache\\torch\\hub\\ultralytics_yolov5_master\n"
     ]
    }
   ],
   "source": [
    "# load Yolo\n",
    "model = torch.hub.load('ultralytics/yolov5', 'yolov5s')"
   ]
  },
  {
   "cell_type": "code",
   "execution_count": 84,
   "id": "85778a7e",
   "metadata": {},
   "outputs": [],
   "source": [
    "#img = 'https://github.com/ultralytics/yolov5/raw/master/data/images/zidane.jpg'\n",
    "img = cv2.imread('chair.jpeg') "
   ]
  },
  {
   "cell_type": "code",
   "execution_count": 85,
   "id": "0bc461d5",
   "metadata": {},
   "outputs": [],
   "source": [
    "# Inference\n",
    "results = model(img)"
   ]
  },
  {
   "cell_type": "code",
   "execution_count": 86,
   "id": "f8f7bd27",
   "metadata": {},
   "outputs": [],
   "source": [
    "# inference with larger input size\n",
    "results = model(img, size=1280)"
   ]
  },
  {
   "cell_type": "code",
   "execution_count": 87,
   "id": "469fec18",
   "metadata": {},
   "outputs": [],
   "source": [
    "# inference with test time augmentation\n",
    "results = model(img, augment=True)"
   ]
  },
  {
   "cell_type": "code",
   "execution_count": 88,
   "id": "15b583ef",
   "metadata": {},
   "outputs": [],
   "source": [
    "# Results\n",
    "results.show()  # or .show(), .save(), .crop(), .pandas(), etc."
   ]
  },
  {
   "cell_type": "code",
   "execution_count": 89,
   "id": "2d1a0dc5",
   "metadata": {},
   "outputs": [],
   "source": [
    "# save results\n",
    "results.save(save_dir='results/')"
   ]
  },
  {
   "cell_type": "code",
   "execution_count": null,
   "id": "cb2a5820",
   "metadata": {},
   "outputs": [],
   "source": []
  }
 ],
 "metadata": {
  "kernelspec": {
   "display_name": "Python 3",
   "language": "python",
   "name": "python3"
  },
  "language_info": {
   "codemirror_mode": {
    "name": "ipython",
    "version": 3
   },
   "file_extension": ".py",
   "mimetype": "text/x-python",
   "name": "python",
   "nbconvert_exporter": "python",
   "pygments_lexer": "ipython3",
   "version": "3.8.8"
  }
 },
 "nbformat": 4,
 "nbformat_minor": 5
}
